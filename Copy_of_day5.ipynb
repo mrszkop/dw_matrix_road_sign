{
  "nbformat": 4,
  "nbformat_minor": 0,
  "metadata": {
    "colab": {
      "name": "Copy of day5.ipynb",
      "provenance": [],
      "mount_file_id": "1DfYHkh37GcZGbrAnTZFeHgMJljYbzWsT",
      "authorship_tag": "ABX9TyNyEwuOS9/PrWQpInAMTqc5",
      "include_colab_link": true
    },
    "kernelspec": {
      "name": "python3",
      "display_name": "Python 3"
    },
    "accelerator": "GPU"
  },
  "cells": [
    {
      "cell_type": "markdown",
      "metadata": {
        "id": "view-in-github",
        "colab_type": "text"
      },
      "source": [
        "<a href=\"https://colab.research.google.com/github/mrszkop/dw_matrix_road_sign/blob/master/Copy_of_day5.ipynb\" target=\"_parent\"><img src=\"https://colab.research.google.com/assets/colab-badge.svg\" alt=\"Open In Colab\"/></a>"
      ]
    },
    {
      "cell_type": "code",
      "metadata": {
        "id": "hK9PAa7xLwUw",
        "colab_type": "code",
        "outputId": "ce95a786-a42e-49c5-cfd1-dc7ad254d344",
        "colab": {
          "base_uri": "https://localhost:8080/",
          "height": 170
        }
      },
      "source": [
        "!pip install hyperopt"
      ],
      "execution_count": 0,
      "outputs": [
        {
          "output_type": "stream",
          "text": [
            "Requirement already satisfied: hyperopt in /usr/local/lib/python3.6/dist-packages (0.1.2)\n",
            "Requirement already satisfied: tqdm in /usr/local/lib/python3.6/dist-packages (from hyperopt) (4.38.0)\n",
            "Requirement already satisfied: numpy in /usr/local/lib/python3.6/dist-packages (from hyperopt) (1.18.2)\n",
            "Requirement already satisfied: pymongo in /usr/local/lib/python3.6/dist-packages (from hyperopt) (3.10.1)\n",
            "Requirement already satisfied: scipy in /usr/local/lib/python3.6/dist-packages (from hyperopt) (1.4.1)\n",
            "Requirement already satisfied: networkx in /usr/local/lib/python3.6/dist-packages (from hyperopt) (2.4)\n",
            "Requirement already satisfied: future in /usr/local/lib/python3.6/dist-packages (from hyperopt) (0.16.0)\n",
            "Requirement already satisfied: six in /usr/local/lib/python3.6/dist-packages (from hyperopt) (1.12.0)\n",
            "Requirement already satisfied: decorator>=4.3.0 in /usr/local/lib/python3.6/dist-packages (from networkx->hyperopt) (4.4.2)\n"
          ],
          "name": "stdout"
        }
      ]
    },
    {
      "cell_type": "code",
      "metadata": {
        "id": "HWgDK4JMMIAK",
        "colab_type": "code",
        "outputId": "9a392c61-0223-4747-e45c-2a2d13a8342e",
        "colab": {
          "base_uri": "https://localhost:8080/",
          "height": 51
        }
      },
      "source": [
        "import pandas as pd\n",
        "import numpy as np\n",
        "\n",
        "import os\n",
        "import datetime\n",
        "\n",
        "import tensorflow as tf\n",
        "from tensorflow.keras.models import Sequential\n",
        "from tensorflow.keras.layers import Conv2D, MaxPool2D, Dense, Flatten, Dropout\n",
        "from tensorflow.keras.utils import to_categorical\n",
        "\n",
        "%load_ext tensorboard\n",
        "\n",
        "import matplotlib.pyplot as plt\n",
        "from skimage import color, exposure\n",
        "\n",
        "from sklearn.metrics import accuracy_score\n",
        "\n",
        "from hyperopt import hp, STATUS_OK, tpe, Trials, fmin"
      ],
      "execution_count": 0,
      "outputs": [
        {
          "output_type": "stream",
          "text": [
            "The tensorboard extension is already loaded. To reload it, use:\n",
            "  %reload_ext tensorboard\n"
          ],
          "name": "stdout"
        }
      ]
    },
    {
      "cell_type": "code",
      "metadata": {
        "id": "0mjbqGq4MUUV",
        "colab_type": "code",
        "outputId": "9383b890-d3fa-48bd-d168-1eef419d74b2",
        "colab": {
          "base_uri": "https://localhost:8080/",
          "height": 34
        }
      },
      "source": [
        "cd '/content/drive/My Drive/Colab Notebooks/matrix/matrix_three/dw_matrix_road_sign'"
      ],
      "execution_count": 0,
      "outputs": [
        {
          "output_type": "stream",
          "text": [
            "/content/drive/My Drive/Colab Notebooks/matrix/matrix_three/dw_matrix_road_sign\n"
          ],
          "name": "stdout"
        }
      ]
    },
    {
      "cell_type": "code",
      "metadata": {
        "id": "aJQE7KJ5MZXV",
        "colab_type": "code",
        "colab": {}
      },
      "source": [
        "train = pd.read_pickle('data/train.p')\n",
        "test = pd.read_pickle('data/test.p')\n",
        "\n",
        "X_train, y_train = train['features'], train['labels']\n",
        "X_test, y_test = test['features'], test['labels']"
      ],
      "execution_count": 0,
      "outputs": []
    },
    {
      "cell_type": "code",
      "metadata": {
        "id": "QIq1o4wGMZZz",
        "colab_type": "code",
        "colab": {}
      },
      "source": [
        "if y_train.ndim == 1: y_train= to_categorical(y_train)\n",
        "if y_test.ndim == 1: y_test= to_categorical(y_test)"
      ],
      "execution_count": 0,
      "outputs": []
    },
    {
      "cell_type": "code",
      "metadata": {
        "id": "X8FPFu6lMZkQ",
        "colab_type": "code",
        "colab": {}
      },
      "source": [
        "input_shape = X_train.shape[1: ]\n",
        "num_classes = y_train.shape[1]"
      ],
      "execution_count": 0,
      "outputs": []
    },
    {
      "cell_type": "code",
      "metadata": {
        "id": "oVl2UUiAMZvh",
        "colab_type": "code",
        "colab": {}
      },
      "source": [
        "def train_model(model,X_train,y_train, params_fit={}):\n",
        "  model.compile(loss='categorical_crossentropy', optimizer='Adam', metrics=['accuracy'])\n",
        "\n",
        "  logdir = os.path.join(\"logs\", datetime.datetime.now().strftime(\"%Y%m%d-%H%M%S\"))\n",
        "  tensorboard_callback = tf.keras.callbacks.TensorBoard(logdir, histogram_freq=1)\n",
        "\n",
        "  model.fit(\n",
        "      X_train,\n",
        "      y_train,\n",
        "      batch_size=params_fit.get('batch_size',128),\n",
        "      epochs=params_fit.get('epochs',5),\n",
        "      verbose=params_fit.get('vetbose',1),\n",
        "      validation_data=params_fit.get('validation_data',(X_train,y_train)),\n",
        "      callbacks=[tensorboard_callback]\n",
        "      )\n",
        "  \n",
        "  return model"
      ],
      "execution_count": 0,
      "outputs": []
    },
    {
      "cell_type": "code",
      "metadata": {
        "id": "oAlufZfTMZ4I",
        "colab_type": "code",
        "colab": {}
      },
      "source": [
        "def predict(model_trained, X_test, y_test, scoring=accuracy_score):\n",
        "\n",
        "  y_test_norm = np.argmax(y_test, axis=1)\n",
        "\n",
        "  y_pred_prob = model_trained.predict(X_test)\n",
        "  y_pred = np.argmax(y_pred_prob, axis=1)\n",
        "\n",
        "  return scoring(y_test_norm, y_pred)"
      ],
      "execution_count": 0,
      "outputs": []
    },
    {
      "cell_type": "code",
      "metadata": {
        "id": "woAXGA4rNvHh",
        "colab_type": "code",
        "colab": {}
      },
      "source": [
        "\n",
        "def train_and_predict(model):\n",
        "  model_trained = train_model(model,X_train,y_train)\n",
        "  return predict(model_trained, X_test, y_test)"
      ],
      "execution_count": 0,
      "outputs": []
    },
    {
      "cell_type": "code",
      "metadata": {
        "id": "2YhWaWOCMZ17",
        "colab_type": "code",
        "outputId": "b004145e-be7f-4020-aed7-ae997be774e0",
        "colab": {
          "base_uri": "https://localhost:8080/",
          "height": 204
        }
      },
      "source": [
        "def get_cnn_v5(input_shape,num_classes):\n",
        "  return Sequential([\n",
        "    Conv2D(filters=32, kernel_size=(3,3), activation='relu',input_shape=input_shape),\n",
        "    Conv2D(filters=32, kernel_size=(3,3), activation='relu', padding='same'),\n",
        "    MaxPool2D(),\n",
        "    Dropout(0.3),\n",
        "\n",
        "    Conv2D(filters=64, kernel_size=(3,3), activation='relu', padding='same'),\n",
        "    Conv2D(filters=64, kernel_size=(3,3), activation='relu'),\n",
        "    MaxPool2D(),\n",
        "    Dropout(0.3),\n",
        "\n",
        "    Conv2D(filters=64, kernel_size=(3,3), activation='relu', padding='same'),\n",
        "    Conv2D(filters=64, kernel_size=(3,3), activation='relu'),\n",
        "    MaxPool2D(),\n",
        "    Dropout(0.3),\n",
        "\n",
        "    Flatten(),\n",
        "\n",
        "    Dense(1024, activation='relu'),\n",
        "    Dropout(0.3),\n",
        "\n",
        "    Dense(1024, activation='relu'),\n",
        "    Dropout(0.3),\n",
        "\n",
        "    Dense(num_classes, activation='softmax'),\n",
        "])\n",
        "\n",
        "\n",
        "train_and_predict( get_cnn_v5(input_shape, num_classes) )"
      ],
      "execution_count": 0,
      "outputs": [
        {
          "output_type": "stream",
          "text": [
            "Epoch 1/5\n",
            "272/272 [==============================] - 13s 49ms/step - loss: 2.4464 - accuracy: 0.3222 - val_loss: 0.7713 - val_accuracy: 0.7575\n",
            "Epoch 2/5\n",
            "272/272 [==============================] - 13s 47ms/step - loss: 0.6993 - accuracy: 0.7753 - val_loss: 0.1667 - val_accuracy: 0.9434\n",
            "Epoch 3/5\n",
            "272/272 [==============================] - 13s 47ms/step - loss: 0.3290 - accuracy: 0.8984 - val_loss: 0.0640 - val_accuracy: 0.9833\n",
            "Epoch 4/5\n",
            "272/272 [==============================] - 13s 47ms/step - loss: 0.2234 - accuracy: 0.9309 - val_loss: 0.0469 - val_accuracy: 0.9870\n",
            "Epoch 5/5\n",
            "272/272 [==============================] - 13s 47ms/step - loss: 0.1787 - accuracy: 0.9464 - val_loss: 0.0324 - val_accuracy: 0.9902\n"
          ],
          "name": "stdout"
        },
        {
          "output_type": "execute_result",
          "data": {
            "text/plain": [
              "0.9673469387755103"
            ]
          },
          "metadata": {
            "tags": []
          },
          "execution_count": 15
        }
      ]
    },
    {
      "cell_type": "code",
      "metadata": {
        "id": "XbSrl8y_MZ0c",
        "colab_type": "code",
        "outputId": "a93ccc04-d319-4cd4-b89f-974c7f960181",
        "colab": {
          "base_uri": "https://localhost:8080/",
          "height": 204
        }
      },
      "source": [
        "model = get_cnn_v5(input_shape,num_classes)\n",
        "model_trained = train_model(model, X_train, y_train)\n",
        "\n",
        "predict(model_trained, X_test, y_test)"
      ],
      "execution_count": 0,
      "outputs": [
        {
          "output_type": "stream",
          "text": [
            "Epoch 1/5\n",
            "272/272 [==============================] - 13s 48ms/step - loss: 2.3960 - accuracy: 0.3226 - val_loss: 0.9958 - val_accuracy: 0.7044\n",
            "Epoch 2/5\n",
            "272/272 [==============================] - 13s 47ms/step - loss: 0.7769 - accuracy: 0.7531 - val_loss: 0.1868 - val_accuracy: 0.9523\n",
            "Epoch 3/5\n",
            "272/272 [==============================] - 13s 47ms/step - loss: 0.3378 - accuracy: 0.8948 - val_loss: 0.0700 - val_accuracy: 0.9818\n",
            "Epoch 4/5\n",
            "272/272 [==============================] - 13s 47ms/step - loss: 0.2289 - accuracy: 0.9315 - val_loss: 0.0388 - val_accuracy: 0.9888\n",
            "Epoch 5/5\n",
            "272/272 [==============================] - 13s 47ms/step - loss: 0.1585 - accuracy: 0.9527 - val_loss: 0.0310 - val_accuracy: 0.9912\n"
          ],
          "name": "stdout"
        },
        {
          "output_type": "execute_result",
          "data": {
            "text/plain": [
              "0.9727891156462585"
            ]
          },
          "metadata": {
            "tags": []
          },
          "execution_count": 16
        }
      ]
    },
    {
      "cell_type": "code",
      "metadata": {
        "id": "8bYQziTkOxfE",
        "colab_type": "code",
        "outputId": "a7c3d0da-7936-4ce7-ba2b-121a205a37a3",
        "colab": {
          "base_uri": "https://localhost:8080/",
          "height": 51
        }
      },
      "source": [
        "model_trained.evaluate(X_test, y_test)[1]"
      ],
      "execution_count": 0,
      "outputs": [
        {
          "output_type": "stream",
          "text": [
            "138/138 [==============================] - 1s 7ms/step - loss: 0.0957 - accuracy: 0.9728\n"
          ],
          "name": "stdout"
        },
        {
          "output_type": "execute_result",
          "data": {
            "text/plain": [
              "0.9727891087532043"
            ]
          },
          "metadata": {
            "tags": []
          },
          "execution_count": 17
        }
      ]
    },
    {
      "cell_type": "code",
      "metadata": {
        "id": "vkDpRMrxQ6mj",
        "colab_type": "code",
        "outputId": "10efbdf3-86b0-4272-bba1-8471d99b2214",
        "colab": {
          "base_uri": "https://localhost:8080/",
          "height": 241
        }
      },
      "source": [
        "def get_model(params):\n",
        "  return Sequential([\n",
        "    Conv2D(filters=32, kernel_size=(3,3), activation='relu', input_shape=input_shape),\n",
        "    Conv2D(filters=32, kernel_size=(3,3), activation='relu', padding='same'),\n",
        "    MaxPool2D(),\n",
        "    Dropout(params['dropout_cnn_block_one']),\n",
        "\n",
        "    Conv2D(filters=64, kernel_size=(3,3), activation='relu', padding='same'),\n",
        "    Conv2D(filters=64, kernel_size=(3,3), activation='relu'),\n",
        "    MaxPool2D(),\n",
        "    Dropout(params['dropout_cnn_block_two']),\n",
        "\n",
        "    Conv2D(filters=128, kernel_size=(3,3), activation='relu', padding='same'),\n",
        "    Conv2D(filters=128, kernel_size=(3,3), activation='relu'),\n",
        "    MaxPool2D(),\n",
        "    Dropout(params['dropout_cnn_block_three']),\n",
        "\n",
        "    Flatten(),\n",
        "\n",
        "    Dense(1024, activation='relu'),\n",
        "    Dropout(params['dropout_dense_block_one']),\n",
        "\n",
        "    Dense(1024, activation='relu'),\n",
        "    Dropout(params['dropout_dense_block_two']),\n",
        "\n",
        "    Dense(num_classes, activation='softmax'),\n",
        "])\n",
        "\n",
        "\n",
        "train_and_predict( get_cnn_v5(input_shape, num_classes) )"
      ],
      "execution_count": 0,
      "outputs": [
        {
          "output_type": "stream",
          "text": [
            "Epoch 1/5\n",
            "  2/272 [..............................] - ETA: 5:34 - loss: 15.1617 - accuracy: 0.0391WARNING:tensorflow:Method (on_train_batch_end) is slow compared to the batch update (1.220614). Check your callbacks.\n",
            "272/272 [==============================] - 15s 56ms/step - loss: 2.7793 - accuracy: 0.2398 - val_loss: 1.6704 - val_accuracy: 0.4361\n",
            "Epoch 2/5\n",
            "272/272 [==============================] - 13s 46ms/step - loss: 1.6057 - accuracy: 0.4656 - val_loss: 0.9738 - val_accuracy: 0.6850\n",
            "Epoch 3/5\n",
            "272/272 [==============================] - 13s 47ms/step - loss: 0.9145 - accuracy: 0.7018 - val_loss: 0.3357 - val_accuracy: 0.8975\n",
            "Epoch 4/5\n",
            "272/272 [==============================] - 13s 46ms/step - loss: 0.5277 - accuracy: 0.8299 - val_loss: 0.1604 - val_accuracy: 0.9507\n",
            "Epoch 5/5\n",
            "272/272 [==============================] - 13s 47ms/step - loss: 0.3629 - accuracy: 0.8877 - val_loss: 0.1414 - val_accuracy: 0.9522\n"
          ],
          "name": "stdout"
        },
        {
          "output_type": "execute_result",
          "data": {
            "text/plain": [
              "0.9002267573696145"
            ]
          },
          "metadata": {
            "tags": []
          },
          "execution_count": 32
        }
      ]
    },
    {
      "cell_type": "code",
      "metadata": {
        "id": "LIxGFiYkMZyX",
        "colab_type": "code",
        "colab": {}
      },
      "source": [
        "def func_obj(params):\n",
        "  model = get_model(params)\n",
        "  model.compile(loss='categorical_crossentropy', optimizer='Adam', metrics=['accuracy'])\n",
        "\n",
        "  model.fit(\n",
        "      X_train,\n",
        "      y_train,\n",
        "      batch_size=int(params.get('batch_size',128)),\n",
        "      epochs=5,\n",
        "      verbose=0,\n",
        "      )\n",
        "  \n",
        "  score = model.evaluate(X_test, y_test, verbose=0)\n",
        "  accuracy = score[1]\n",
        "  print(params, 'accuracy={}'.format(params))\n",
        "\n",
        "  return {'loss': -accuracy, 'status': STATUS_OK, 'model': model}"
      ],
      "execution_count": 0,
      "outputs": []
    },
    {
      "cell_type": "code",
      "metadata": {
        "id": "bcSTvQeYMZtf",
        "colab_type": "code",
        "outputId": "bdbc12e3-c579-44a4-b77c-31783da772a0",
        "colab": {
          "base_uri": "https://localhost:8080/",
          "height": 1000
        }
      },
      "source": [
        "space = {\n",
        "    'batch_size': hp.quniform('batch_size', 100, 200, 10),\n",
        "    'dropout_cnn_block_one': hp.uniform('dropout_cnn_block_one', 0.3, 0.5),\n",
        "    'dropout_cnn_block_two': hp.uniform('dropout_cnn_block_two', 0.3, 0.5),\n",
        "    'dropout_cnn_block_three': hp.uniform('dropout_cnn_block_three', 0.3, 0.5),\n",
        "\n",
        "    'dropout_dense_block_one': hp.uniform('dropout_dense_block_one', 0.3, 0.7),\n",
        "    'dropout_dense_block_two': hp.uniform('dropout_dense_block_two', 0.3, 0.7),\n",
        "}\n",
        "\n",
        "best = fmin(\n",
        "    func_obj,\n",
        "    space,\n",
        "    tpe.suggest,\n",
        "    30,\n",
        "    Trials()\n",
        ")"
      ],
      "execution_count": 0,
      "outputs": [
        {
          "output_type": "stream",
          "text": [
            "{'batch_size': 150.0, 'dropout_cnn_block_one': 0.4984556677467039, 'dropout_cnn_block_three': 0.39592199918493337, 'dropout_cnn_block_two': 0.32648676761914674, 'dropout_dense_block_one': 0.30940917318975036, 'dropout_dense_block_two': 0.3652225894127789}\n",
            "accuracy={'batch_size': 150.0, 'dropout_cnn_block_one': 0.4984556677467039, 'dropout_cnn_block_three': 0.39592199918493337, 'dropout_cnn_block_two': 0.32648676761914674, 'dropout_dense_block_one': 0.30940917318975036, 'dropout_dense_block_two': 0.3652225894127789}\n",
            "{'batch_size': 110.0, 'dropout_cnn_block_one': 0.4093354190830977, 'dropout_cnn_block_three': 0.3984840651626991, 'dropout_cnn_block_two': 0.4056090636285412, 'dropout_dense_block_one': 0.5489539039741482, 'dropout_dense_block_two': 0.38063404334583634}\n",
            "accuracy={'batch_size': 110.0, 'dropout_cnn_block_one': 0.4093354190830977, 'dropout_cnn_block_three': 0.3984840651626991, 'dropout_cnn_block_two': 0.4056090636285412, 'dropout_dense_block_one': 0.5489539039741482, 'dropout_dense_block_two': 0.38063404334583634}\n",
            "{'batch_size': 170.0, 'dropout_cnn_block_one': 0.4320592549429577, 'dropout_cnn_block_three': 0.4297042998823393, 'dropout_cnn_block_two': 0.36895554328422875, 'dropout_dense_block_one': 0.6245222603511593, 'dropout_dense_block_two': 0.30322535990303695}\n",
            "accuracy={'batch_size': 170.0, 'dropout_cnn_block_one': 0.4320592549429577, 'dropout_cnn_block_three': 0.4297042998823393, 'dropout_cnn_block_two': 0.36895554328422875, 'dropout_dense_block_one': 0.6245222603511593, 'dropout_dense_block_two': 0.30322535990303695}\n",
            "{'batch_size': 110.0, 'dropout_cnn_block_one': 0.4721141715849439, 'dropout_cnn_block_three': 0.48444931599428503, 'dropout_cnn_block_two': 0.41864778873921427, 'dropout_dense_block_one': 0.523014058279973, 'dropout_dense_block_two': 0.44680007145795586}\n",
            "accuracy={'batch_size': 110.0, 'dropout_cnn_block_one': 0.4721141715849439, 'dropout_cnn_block_three': 0.48444931599428503, 'dropout_cnn_block_two': 0.41864778873921427, 'dropout_dense_block_one': 0.523014058279973, 'dropout_dense_block_two': 0.44680007145795586}\n",
            "{'batch_size': 140.0, 'dropout_cnn_block_one': 0.3759380398829629, 'dropout_cnn_block_three': 0.38263403644858374, 'dropout_cnn_block_two': 0.48496612761652774, 'dropout_dense_block_one': 0.669938493973329, 'dropout_dense_block_two': 0.45118314539886617}\n",
            "accuracy={'batch_size': 140.0, 'dropout_cnn_block_one': 0.3759380398829629, 'dropout_cnn_block_three': 0.38263403644858374, 'dropout_cnn_block_two': 0.48496612761652774, 'dropout_dense_block_one': 0.669938493973329, 'dropout_dense_block_two': 0.45118314539886617}\n",
            "{'batch_size': 150.0, 'dropout_cnn_block_one': 0.47127098313705, 'dropout_cnn_block_three': 0.44846644714166206, 'dropout_cnn_block_two': 0.32468177073355864, 'dropout_dense_block_one': 0.39855150482821766, 'dropout_dense_block_two': 0.5851182657610727}\n",
            "accuracy={'batch_size': 150.0, 'dropout_cnn_block_one': 0.47127098313705, 'dropout_cnn_block_three': 0.44846644714166206, 'dropout_cnn_block_two': 0.32468177073355864, 'dropout_dense_block_one': 0.39855150482821766, 'dropout_dense_block_two': 0.5851182657610727}\n",
            "{'batch_size': 110.0, 'dropout_cnn_block_one': 0.41835742166693485, 'dropout_cnn_block_three': 0.40715268217623174, 'dropout_cnn_block_two': 0.388038865580175, 'dropout_dense_block_one': 0.5134737560816174, 'dropout_dense_block_two': 0.31202462841872536}\n",
            "accuracy={'batch_size': 110.0, 'dropout_cnn_block_one': 0.41835742166693485, 'dropout_cnn_block_three': 0.40715268217623174, 'dropout_cnn_block_two': 0.388038865580175, 'dropout_dense_block_one': 0.5134737560816174, 'dropout_dense_block_two': 0.31202462841872536}\n",
            "{'batch_size': 160.0, 'dropout_cnn_block_one': 0.4997360302526912, 'dropout_cnn_block_three': 0.3561560959106413, 'dropout_cnn_block_two': 0.49297422997577167, 'dropout_dense_block_one': 0.40906657509888883, 'dropout_dense_block_two': 0.5663796129653901}\n",
            "accuracy={'batch_size': 160.0, 'dropout_cnn_block_one': 0.4997360302526912, 'dropout_cnn_block_three': 0.3561560959106413, 'dropout_cnn_block_two': 0.49297422997577167, 'dropout_dense_block_one': 0.40906657509888883, 'dropout_dense_block_two': 0.5663796129653901}\n",
            "{'batch_size': 170.0, 'dropout_cnn_block_one': 0.454758733897171, 'dropout_cnn_block_three': 0.3173904946690714, 'dropout_cnn_block_two': 0.41739513189214805, 'dropout_dense_block_one': 0.5873048337775656, 'dropout_dense_block_two': 0.3114750339411628}\n",
            "accuracy={'batch_size': 170.0, 'dropout_cnn_block_one': 0.454758733897171, 'dropout_cnn_block_three': 0.3173904946690714, 'dropout_cnn_block_two': 0.41739513189214805, 'dropout_dense_block_one': 0.5873048337775656, 'dropout_dense_block_two': 0.3114750339411628}\n",
            "{'batch_size': 150.0, 'dropout_cnn_block_one': 0.45830891651895855, 'dropout_cnn_block_three': 0.42000726927154614, 'dropout_cnn_block_two': 0.3740341557765259, 'dropout_dense_block_one': 0.6231817398681151, 'dropout_dense_block_two': 0.5559195751606023}\n",
            "accuracy={'batch_size': 150.0, 'dropout_cnn_block_one': 0.45830891651895855, 'dropout_cnn_block_three': 0.42000726927154614, 'dropout_cnn_block_two': 0.3740341557765259, 'dropout_dense_block_one': 0.6231817398681151, 'dropout_dense_block_two': 0.5559195751606023}\n",
            "{'batch_size': 190.0, 'dropout_cnn_block_one': 0.3695721112867393, 'dropout_cnn_block_three': 0.4651255109896278, 'dropout_cnn_block_two': 0.30709724251775017, 'dropout_dense_block_one': 0.35880822041456034, 'dropout_dense_block_two': 0.34965421506377414}\n",
            "accuracy={'batch_size': 190.0, 'dropout_cnn_block_one': 0.3695721112867393, 'dropout_cnn_block_three': 0.4651255109896278, 'dropout_cnn_block_two': 0.30709724251775017, 'dropout_dense_block_one': 0.35880822041456034, 'dropout_dense_block_two': 0.34965421506377414}\n",
            "{'batch_size': 130.0, 'dropout_cnn_block_one': 0.4720209950673273, 'dropout_cnn_block_three': 0.3365222818540647, 'dropout_cnn_block_two': 0.390924673739195, 'dropout_dense_block_one': 0.550000629040419, 'dropout_dense_block_two': 0.6458278547118557}\n",
            "accuracy={'batch_size': 130.0, 'dropout_cnn_block_one': 0.4720209950673273, 'dropout_cnn_block_three': 0.3365222818540647, 'dropout_cnn_block_two': 0.390924673739195, 'dropout_dense_block_one': 0.550000629040419, 'dropout_dense_block_two': 0.6458278547118557}\n",
            "{'batch_size': 150.0, 'dropout_cnn_block_one': 0.39647144359992526, 'dropout_cnn_block_three': 0.4238807617022914, 'dropout_cnn_block_two': 0.38765950771076657, 'dropout_dense_block_one': 0.39712133176677855, 'dropout_dense_block_two': 0.5662041753388043}\n",
            "accuracy={'batch_size': 150.0, 'dropout_cnn_block_one': 0.39647144359992526, 'dropout_cnn_block_three': 0.4238807617022914, 'dropout_cnn_block_two': 0.38765950771076657, 'dropout_dense_block_one': 0.39712133176677855, 'dropout_dense_block_two': 0.5662041753388043}\n",
            "{'batch_size': 160.0, 'dropout_cnn_block_one': 0.43120941195733264, 'dropout_cnn_block_three': 0.3820434467888377, 'dropout_cnn_block_two': 0.45486546600521216, 'dropout_dense_block_one': 0.693705705489819, 'dropout_dense_block_two': 0.550354222710528}\n",
            "accuracy={'batch_size': 160.0, 'dropout_cnn_block_one': 0.43120941195733264, 'dropout_cnn_block_three': 0.3820434467888377, 'dropout_cnn_block_two': 0.45486546600521216, 'dropout_dense_block_one': 0.693705705489819, 'dropout_dense_block_two': 0.550354222710528}\n",
            "{'batch_size': 100.0, 'dropout_cnn_block_one': 0.355906358375533, 'dropout_cnn_block_three': 0.43688993396118125, 'dropout_cnn_block_two': 0.45669399101228825, 'dropout_dense_block_one': 0.39668997267367895, 'dropout_dense_block_two': 0.5830315063141898}\n",
            "accuracy={'batch_size': 100.0, 'dropout_cnn_block_one': 0.355906358375533, 'dropout_cnn_block_three': 0.43688993396118125, 'dropout_cnn_block_two': 0.45669399101228825, 'dropout_dense_block_one': 0.39668997267367895, 'dropout_dense_block_two': 0.5830315063141898}\n",
            "{'batch_size': 170.0, 'dropout_cnn_block_one': 0.4807290278481101, 'dropout_cnn_block_three': 0.47681916981903366, 'dropout_cnn_block_two': 0.45173318275952273, 'dropout_dense_block_one': 0.4646737585761368, 'dropout_dense_block_two': 0.45372631320947593}\n",
            "accuracy={'batch_size': 170.0, 'dropout_cnn_block_one': 0.4807290278481101, 'dropout_cnn_block_three': 0.47681916981903366, 'dropout_cnn_block_two': 0.45173318275952273, 'dropout_dense_block_one': 0.4646737585761368, 'dropout_dense_block_two': 0.45372631320947593}\n",
            "{'batch_size': 180.0, 'dropout_cnn_block_one': 0.45416264816093743, 'dropout_cnn_block_three': 0.4308579926749003, 'dropout_cnn_block_two': 0.4385909444629985, 'dropout_dense_block_one': 0.6148590216280678, 'dropout_dense_block_two': 0.34536840449986284}\n",
            "accuracy={'batch_size': 180.0, 'dropout_cnn_block_one': 0.45416264816093743, 'dropout_cnn_block_three': 0.4308579926749003, 'dropout_cnn_block_two': 0.4385909444629985, 'dropout_dense_block_one': 0.6148590216280678, 'dropout_dense_block_two': 0.34536840449986284}\n",
            "{'batch_size': 110.0, 'dropout_cnn_block_one': 0.4471129596118425, 'dropout_cnn_block_three': 0.3432604179169501, 'dropout_cnn_block_two': 0.4536481804550015, 'dropout_dense_block_one': 0.3536412480897358, 'dropout_dense_block_two': 0.6227946851418957}\n",
            "accuracy={'batch_size': 110.0, 'dropout_cnn_block_one': 0.4471129596118425, 'dropout_cnn_block_three': 0.3432604179169501, 'dropout_cnn_block_two': 0.4536481804550015, 'dropout_dense_block_one': 0.3536412480897358, 'dropout_dense_block_two': 0.6227946851418957}\n",
            "{'batch_size': 110.0, 'dropout_cnn_block_one': 0.40804279796784043, 'dropout_cnn_block_three': 0.3630416067871936, 'dropout_cnn_block_two': 0.38127380889880996, 'dropout_dense_block_one': 0.4895500302064578, 'dropout_dense_block_two': 0.6045671009512681}\n",
            "accuracy={'batch_size': 110.0, 'dropout_cnn_block_one': 0.40804279796784043, 'dropout_cnn_block_three': 0.3630416067871936, 'dropout_cnn_block_two': 0.38127380889880996, 'dropout_dense_block_one': 0.4895500302064578, 'dropout_dense_block_two': 0.6045671009512681}\n",
            "{'batch_size': 140.0, 'dropout_cnn_block_one': 0.3273976914653972, 'dropout_cnn_block_three': 0.35681530888551877, 'dropout_cnn_block_two': 0.4400406702222055, 'dropout_dense_block_one': 0.6615607196360838, 'dropout_dense_block_two': 0.6813494236966303}\n",
            "accuracy={'batch_size': 140.0, 'dropout_cnn_block_one': 0.3273976914653972, 'dropout_cnn_block_three': 0.35681530888551877, 'dropout_cnn_block_two': 0.4400406702222055, 'dropout_dense_block_one': 0.6615607196360838, 'dropout_dense_block_two': 0.6813494236966303}\n",
            "{'batch_size': 130.0, 'dropout_cnn_block_one': 0.3112734900267847, 'dropout_cnn_block_three': 0.4003705581945511, 'dropout_cnn_block_two': 0.35118463691931856, 'dropout_dense_block_one': 0.4548167767982695, 'dropout_dense_block_two': 0.397772756643882}\n",
            "accuracy={'batch_size': 130.0, 'dropout_cnn_block_one': 0.3112734900267847, 'dropout_cnn_block_three': 0.4003705581945511, 'dropout_cnn_block_two': 0.35118463691931856, 'dropout_dense_block_one': 0.4548167767982695, 'dropout_dense_block_two': 0.397772756643882}\n",
            "{'batch_size': 130.0, 'dropout_cnn_block_one': 0.30917801315129123, 'dropout_cnn_block_three': 0.40539745820938317, 'dropout_cnn_block_two': 0.3541544348782175, 'dropout_dense_block_one': 0.46513636829584615, 'dropout_dense_block_two': 0.4040996785609229}\n",
            "accuracy={'batch_size': 130.0, 'dropout_cnn_block_one': 0.30917801315129123, 'dropout_cnn_block_three': 0.40539745820938317, 'dropout_cnn_block_two': 0.3541544348782175, 'dropout_dense_block_one': 0.46513636829584615, 'dropout_dense_block_two': 0.4040996785609229}\n",
            "{'batch_size': 120.0, 'dropout_cnn_block_one': 0.3391060071678154, 'dropout_cnn_block_three': 0.4609353488769731, 'dropout_cnn_block_two': 0.3499119379216384, 'dropout_dense_block_one': 0.4472972661783669, 'dropout_dense_block_two': 0.5048806499787738}\n",
            "accuracy={'batch_size': 120.0, 'dropout_cnn_block_one': 0.3391060071678154, 'dropout_cnn_block_three': 0.4609353488769731, 'dropout_cnn_block_two': 0.3499119379216384, 'dropout_dense_block_one': 0.4472972661783669, 'dropout_dense_block_two': 0.5048806499787738}\n",
            "{'batch_size': 120.0, 'dropout_cnn_block_one': 0.3004487810834692, 'dropout_cnn_block_three': 0.38221867031397627, 'dropout_cnn_block_two': 0.34017035318934424, 'dropout_dense_block_one': 0.5161065189671556, 'dropout_dense_block_two': 0.41484770692190803}\n",
            "accuracy={'batch_size': 120.0, 'dropout_cnn_block_one': 0.3004487810834692, 'dropout_cnn_block_three': 0.38221867031397627, 'dropout_cnn_block_two': 0.34017035318934424, 'dropout_dense_block_one': 0.5161065189671556, 'dropout_dense_block_two': 0.41484770692190803}\n",
            "{'batch_size': 130.0, 'dropout_cnn_block_one': 0.3915740930991366, 'dropout_cnn_block_three': 0.4166824084181456, 'dropout_cnn_block_two': 0.3608420530961362, 'dropout_dense_block_one': 0.44053450035934616, 'dropout_dense_block_two': 0.30255830829506686}\n",
            "accuracy={'batch_size': 130.0, 'dropout_cnn_block_one': 0.3915740930991366, 'dropout_cnn_block_three': 0.4166824084181456, 'dropout_cnn_block_two': 0.3608420530961362, 'dropout_dense_block_one': 0.44053450035934616, 'dropout_dense_block_two': 0.30255830829506686}\n",
            "{'batch_size': 130.0, 'dropout_cnn_block_one': 0.3205860068244163, 'dropout_cnn_block_three': 0.31059580862545744, 'dropout_cnn_block_two': 0.3108464125330672, 'dropout_dense_block_one': 0.4342597427683984, 'dropout_dense_block_two': 0.49086793786716704}\n",
            "accuracy={'batch_size': 130.0, 'dropout_cnn_block_one': 0.3205860068244163, 'dropout_cnn_block_three': 0.31059580862545744, 'dropout_cnn_block_two': 0.3108464125330672, 'dropout_dense_block_one': 0.4342597427683984, 'dropout_dense_block_two': 0.49086793786716704}\n",
            "{'batch_size': 140.0, 'dropout_cnn_block_one': 0.32448441623380286, 'dropout_cnn_block_three': 0.30166659467095697, 'dropout_cnn_block_two': 0.3020413719673798, 'dropout_dense_block_one': 0.31739143328342856, 'dropout_dense_block_two': 0.5079844159797544}\n",
            "accuracy={'batch_size': 140.0, 'dropout_cnn_block_one': 0.32448441623380286, 'dropout_cnn_block_three': 0.30166659467095697, 'dropout_cnn_block_two': 0.3020413719673798, 'dropout_dense_block_one': 0.31739143328342856, 'dropout_dense_block_two': 0.5079844159797544}\n",
            "{'batch_size': 140.0, 'dropout_cnn_block_one': 0.3324580624891398, 'dropout_cnn_block_three': 0.3028439517195969, 'dropout_cnn_block_two': 0.30248723463533467, 'dropout_dense_block_one': 0.3059797319760484, 'dropout_dense_block_two': 0.515954867645922}\n",
            "accuracy={'batch_size': 140.0, 'dropout_cnn_block_one': 0.3324580624891398, 'dropout_cnn_block_three': 0.3028439517195969, 'dropout_cnn_block_two': 0.30248723463533467, 'dropout_dense_block_one': 0.3059797319760484, 'dropout_dense_block_two': 0.515954867645922}\n",
            "{'batch_size': 120.0, 'dropout_cnn_block_one': 0.34586997903900374, 'dropout_cnn_block_three': 0.3007885225961329, 'dropout_cnn_block_two': 0.32140036186171317, 'dropout_dense_block_one': 0.34257346273782807, 'dropout_dense_block_two': 0.4792762215302305}\n",
            "accuracy={'batch_size': 120.0, 'dropout_cnn_block_one': 0.34586997903900374, 'dropout_cnn_block_three': 0.3007885225961329, 'dropout_cnn_block_two': 0.32140036186171317, 'dropout_dense_block_one': 0.34257346273782807, 'dropout_dense_block_two': 0.4792762215302305}\n",
            "{'batch_size': 140.0, 'dropout_cnn_block_one': 0.3171394895538237, 'dropout_cnn_block_three': 0.32604615198403225, 'dropout_cnn_block_two': 0.30772265199618787, 'dropout_dense_block_one': 0.31843498852775143, 'dropout_dense_block_two': 0.5268931892628077}\n",
            "accuracy={'batch_size': 140.0, 'dropout_cnn_block_one': 0.3171394895538237, 'dropout_cnn_block_three': 0.32604615198403225, 'dropout_cnn_block_two': 0.30772265199618787, 'dropout_dense_block_one': 0.31843498852775143, 'dropout_dense_block_two': 0.5268931892628077}\n",
            "100%|██████████| 30/30 [23:43<00:00, 47.46s/it, best loss: -0.976643979549408]\n"
          ],
          "name": "stdout"
        }
      ]
    }
  ]
}